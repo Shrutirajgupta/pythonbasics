{
 "cells": [
  {
   "cell_type": "markdown",
   "metadata": {
    "id": "3Hem1M1l7h-a"
   },
   "source": [
    "#**Python Basics Question**\n"
   ]
  },
  {
   "cell_type": "markdown",
   "metadata": {
    "id": "t_0KsZwn8bGD"
   },
   "source": [
    "1.What is Python, and why is it popular?**bold text**\n",
    " > Python is a programming language which is commonly used for developing websites and software,task automation,data analysis and data visualisation.\n",
    "\n",
    " *It is popular for:-\n",
    "\n",
    " - >Beginner friendly- Python is considered easy to learn and is often used as an introduction to programming.\n",
    "\n",
    " - >Versatile- Python is general purpose language that can be used for a wide range of applications.\n",
    "\n",
    " - >Effecient- Python can increase development speed and is often used for workflows that require efficiency and precision.\n",
    "\n",
    " - >Many libraries- Python has a large number of libraries and frameworks that can save time and effort in the early stages of development.\n",
    "\n",
    " - >Free - Python is free to download.\n",
    "\n",
    " 2.What is an interpreter in Python?\n",
    " - > An interpreter un Python is a program that executes Python code directly, line by line, rather than compiling the entire code into a machin-readable format before execution. It reads and executes instructions writtn in Python, making it easier to test, debug, and execute scripts dynamically.Each keywords has a specific function or purpose in the language.\n",
    "\n",
    " 3.What are pre-defined keywords in Python?\n",
    "- > These are predefined words that hold a special meaning and have specific purpose. It reserved words that have specific meanings and purposes within the language. These keywords cannot be used as variable names, function names, or identifiers because they are part of the Python syntax.\n",
    " - >Example: True, False,and, continue,for,if else, or,etc...\n",
    "\n",
    "\n",
    "4.Can keywords be used as variable names?\n",
    "- > No, keywords cannot be used as variable names in Python. Keywords are reserved by the language for specific purposes and syntax, and attempting to use them as variable names will result in SyntaxError.\n",
    "\n",
    "5.What is mutability in Python?\n",
    "- > Mutability refers to the ability of an object to be modified after ir has been created. Depending on whether the data within an object can change or not, objects in Puthon are classified as mutable or immutable.It can have their contents modified without changing their identify\n",
    " .Examples:\n",
    "  - >Lists- Elements can be added, removed or changed.\n",
    "  - >Dictionaries- Key value pairs can be added, removed, or updated.\n",
    "  - >Sets- Elements can be added or removed.\n",
    "\n",
    "6.Why are lists mutable, but tuples are immutable?\n",
    "- > In Python , lists and tuples are both data structure that can store multiple values.However, they have different characreristics when it comes to mytability.\n",
    "\n",
    " - >Lists are mutable:\n",
    ".Dynamic memory allocatiion: Lists are implemented as dynamic arrays,which means they can grow or shrink in size as elements are added or removed. This requires the ability to modify the internal state of the list.\n",
    ".Insertion and deletion: Lists provide methods like insert(), append(), and remove taht allow you to modify the contents of the list.\n",
    ".Internal pointers: Lists maintain internal pointers to elements they contain.When you modify a list, these pointers need to be updated to reflect the changes.\n",
    "\n",
    " - >Lists are immutable:\n",
    ".Static memory allocation: Tuples are implemented as static arrays , which means their size is fixed at creation time.\n",
    ".No insertion or deletion: Tuples do not provide methods for inserting of deleting elements.\n",
    ".Hashability: Tuples are hashable meaning they can be used as dictionary keys or elements in a set.\n",
    "7.What is the differnce between the \"==\"and\"is\" operators in Python?\n",
    "> In Python, \"==\" and \"is\" are two distinct operators used for comparison.\n",
    "\n",
    " - >Here are the difference between \"==\" and \"is\" in Python:\n",
    "\n",
    " - > \"==\" checks for value equality, whereas \"is\" checks for object identify.\n",
    " - >==\" compares the values of two objects, whereas \"is\" compares the memory locations of two objects.\n",
    " - >\"==\" is overridable by custom classes, whereas \"is\" is not overridable.\n",
    " - >\"==\" returns True if the values are equal, whereas \"is\" returns True if both variables refer to same object.\n",
    " - >\"==\" is used for value comparison, wheras \"is\" is used for object comparisons.\n",
    "\n",
    "\n",
    "8.What are logical operators in python?\n",
    "> In Python, logical operators are used to combine conditional statements and make decisions based on multiple conditions.\n",
    "\n",
    "- >Here are the logical operators in Python:\n",
    "\n",
    " - >and:- Returns True if both conditions are True.\n",
    "  example- a>5 and a < 10\n",
    "\n",
    " - >or:-Returns True if either condition is True.\n",
    "  example- a>5 or a < 10\n",
    " - >not:- Returns True if the condition is False, and vice versa.\n",
    "  example-not a>5\n",
    "\n",
    "9.What is type casting in Python?\n",
    ">Type casting in Python is the process of changing the data type of a variable or expression from one type to another, either implicitly or explicitly, using built-in functions such as int(), float(), str(),etc.\n",
    "\n",
    "\n",
    "10.What is the difference between implicit and explicit type casting?\n",
    "> Here is the difference:\n",
    "\n",
    "- >Implicit Type Casting:-\n",
    ".Automatic conversion of data type by Python.\n",
    ".Occurs when assigning a value to a variable or using operators.\n",
    ".No explicit function or syntax is required.\n",
    "\n",
    "- >Explicit Type Casting:-\n",
    ".Manual conversion of data type using built in function.\n",
    ".Requires explicit function or syntax, such as int(),float(),str(),etc.\n",
    ".Provides more control over the conversion process.\n",
    "\n",
    "11.What is the purpose of conditional statements in Python?\n",
    "\n",
    ">Conditional statements in Python are used to make decisions in a program. They allow the program to run certain blocks of code only when a specific condition is true. If the condition is false, the program can execute a different block of code.\n",
    "\n",
    "The main types of conditional statements are:-\n",
    "  - >if: Runs a block of code if the condition is true.\n",
    "  ->else: Runs a block of code if the if condition is false.\n",
    "  ->elif: Checks another condition if the previous if or elif conditions were false.\n",
    "\n",
    "12.How does the elif statement work?\n",
    "\n",
    " >The elif (short for \"else if\") statement in Python allows you to check multiple conditions after an initial if statement. If the if condition is false, the elif statement checks another condition. You can have multiple elif statements, and only the first true condition will be executed.\n",
    "\n",
    " 13.What is the difference between for and while loops?\n",
    "\n",
    "- > for loop: Iterates over a sequence (like a list, range, or string) and executes a block of code for each item in the sequence.\n",
    "\n",
    "- >while loop: Repeats a block of code as long as a condition is true. It checks the condition before each iteration.\n",
    "\n",
    "> Key Difference:\n",
    "\n",
    "For loop is used when you know how many times to repeat.\n",
    "While loop is used when you want to repeat until a condition is no long.\n",
    "\n",
    "14.Describe a scenario where a while loop is more suitable than a for loop.\n",
    "\n",
    ">A while loop is more suitable when you don't know in advance how many times the loop should run, but you want it to continue until a certain condition is met.\n",
    "\n",
    ">Scenario:\n",
    "\n",
    "- >Imagine you are writing a program to ask a user to enter a correct password. The loop should continue asking until the user enters the right password. You don’t know how many attempts it will take, so a while loop is ideal.\n",
    "\n",
    "In this case, the while loop keeps asking the user for input until they enter the correct password. The number of iterations is unknown, making the while loop more suitable than a for loop.\n",
    "\n"
   ]
  },
  {
   "cell_type": "markdown",
   "metadata": {
    "id": "BiHxoy0fhqbI"
   },
   "source": [
    "#Practical **Questions**"
   ]
  },
  {
   "cell_type": "markdown",
   "metadata": {
    "id": "Z-gHzchvkEXw"
   },
   "source": [
    "1. Write a Python program to print \"Hello, World!"
   ]
  },
  {
   "cell_type": "code",
   "execution_count": 2,
   "metadata": {
    "colab": {
     "base_uri": "https://localhost:8080/"
    },
    "executionInfo": {
     "elapsed": 461,
     "status": "ok",
     "timestamp": 1733381346248,
     "user": {
      "displayName": "Shruti Gupta",
      "userId": "00406294573104776226"
     },
     "user_tz": -330
    },
    "id": "89MGqe2t6gU_",
    "outputId": "a3f38837-0b41-4d6e-de2f-00ca3e8d5bd0"
   },
   "outputs": [
    {
     "name": "stdout",
     "output_type": "stream",
     "text": [
      "Hello World!\n"
     ]
    }
   ],
   "source": [
    "print(\"Hello World!\")"
   ]
  },
  {
   "cell_type": "markdown",
   "metadata": {
    "id": "vuJqKA_wlJso"
   },
   "source": [
    "2. Write a Python program that displays your name and age."
   ]
  },
  {
   "cell_type": "code",
   "execution_count": 10,
   "metadata": {
    "colab": {
     "base_uri": "https://localhost:8080/"
    },
    "executionInfo": {
     "elapsed": 375,
     "status": "ok",
     "timestamp": 1733383427351,
     "user": {
      "displayName": "Shruti Gupta",
      "userId": "00406294573104776226"
     },
     "user_tz": -330
    },
    "id": "aKRyolFQlIzW",
    "outputId": "dfc677b1-0de3-4da0-d912-40ee69852718"
   },
   "outputs": [
    {
     "name": "stdout",
     "output_type": "stream",
     "text": [
      "My name is Shruti Raj Gupta and I am 20 years old\n"
     ]
    }
   ],
   "source": [
    "name = \"Shruti Raj Gupta\"\n",
    "age = 20\n",
    "print(f\"My name is {name} and I am {age} years old\")"
   ]
  },
  {
   "cell_type": "markdown",
   "metadata": {
    "id": "BMaginU8kC0C"
   },
   "source": [
    "3. Write code to print all the pre-defined keywords in Python using the keyword library"
   ]
  },
  {
   "cell_type": "code",
   "execution_count": 11,
   "metadata": {
    "colab": {
     "base_uri": "https://localhost:8080/"
    },
    "executionInfo": {
     "elapsed": 403,
     "status": "ok",
     "timestamp": 1733383626253,
     "user": {
      "displayName": "Shruti Gupta",
      "userId": "00406294573104776226"
     },
     "user_tz": -330
    },
    "id": "ex_vBk7Em5rd",
    "outputId": "58cf69c6-3661-44d1-dc9e-44402ca74984"
   },
   "outputs": [
    {
     "name": "stdout",
     "output_type": "stream",
     "text": [
      "\n",
      "Here is a list of the Python keywords.  Enter any keyword to get more help.\n",
      "\n",
      "False               class               from                or\n",
      "None                continue            global              pass\n",
      "True                def                 if                  raise\n",
      "and                 del                 import              return\n",
      "as                  elif                in                  try\n",
      "assert              else                is                  while\n",
      "async               except              lambda              with\n",
      "await               finally             nonlocal            yield\n",
      "break               for                 not                 \n",
      "\n"
     ]
    }
   ],
   "source": [
    "help('keywords')"
   ]
  },
  {
   "cell_type": "markdown",
   "metadata": {
    "id": "1IrtUxWA7fwS"
   },
   "source": [
    "4. Write a program that checks if a given word is a Python keyword"
   ]
  },
  {
   "cell_type": "code",
   "execution_count": 1,
   "metadata": {
    "id": "FOFqE6XVnDCK"
   },
   "outputs": [
    {
     "name": "stdout",
     "output_type": "stream",
     "text": [
      " is not  a Python keyword.\n"
     ]
    }
   ],
   "source": [
    "import keyword\n",
    "word = input('Enter a word:')\n",
    "if keyword.iskeyword(word):\n",
    "    print(f\"{word} is  a Python keyword.\")\n",
    "else:\n",
    "    print(f\"{word} is not  a Python keyword.\")"
   ]
  },
  {
   "cell_type": "markdown",
   "metadata": {
    "id": "u0ylvbu87eTG"
   },
   "source": [
    "5. Create a list and tuple in Python, and demonstrate how attempting to change an element works differently\n",
    "for each0"
   ]
  },
  {
   "cell_type": "code",
   "execution_count": 2,
   "metadata": {
    "id": "opNMv-LVnMSh"
   },
   "outputs": [
    {
     "name": "stdout",
     "output_type": "stream",
     "text": [
      "Modified list: [1, 20, 3]\n",
      "Error modifying tuple: 'tuple' object does not support item assignment\n"
     ]
    }
   ],
   "source": [
    "# List example\n",
    "my_list = [1, 2, 3]\n",
    "my_list[1] = 20\n",
    "print(\"Modified list:\", my_list)\n",
    "\n",
    "# Tuple example\n",
    "my_tuple = (1, 2, 3)\n",
    "try:\n",
    "    my_tuple[1] = 20\n",
    "except TypeError as e:\n",
    "    print(\"Error modifying tuple:\", e)\n"
   ]
  },
  {
   "cell_type": "markdown",
   "metadata": {
    "id": "mFDnZRclnQ6t"
   },
   "source": [
    "6. Write a function to demonstrate the behavior of mutable and immutable arguments"
   ]
  },
  {
   "cell_type": "code",
   "execution_count": 3,
   "metadata": {
    "id": "nq_mQcj-nYN9"
   },
   "outputs": [
    {
     "name": "stdout",
     "output_type": "stream",
     "text": [
      "Modified list: [1, 2, 3, 100]\n",
      "Original string remains unchanged: Hello\n"
     ]
    }
   ],
   "source": [
    "def modify_elements(mutable, immutable):\n",
    "    mutable.append(100)  # Lists are mutable\n",
    "    immutable += \" world\"  # Strings are immutable\n",
    "    return mutable, immutable\n",
    "\n",
    "lst = [1, 2, 3]\n",
    "string = \"Hello\"\n",
    "new_lst, new_string = modify_elements(lst, string)\n",
    "\n",
    "print(\"Modified list:\", new_lst)\n",
    "print(\"Original string remains unchanged:\", string)\n"
   ]
  },
  {
   "cell_type": "markdown",
   "metadata": {
    "id": "XGS0N_sznZKw"
   },
   "source": [
    "7. Write a function to demonstrate the behavior of mutable and immutable arguments"
   ]
  },
  {
   "cell_type": "code",
   "execution_count": 4,
   "metadata": {
    "id": "_Mp_a00hxYm2"
   },
   "outputs": [
    {
     "name": "stdout",
     "output_type": "stream",
     "text": [
      "Modified list: [1, 2, 3, 100]\n",
      "Original string remains unchanged: Hello\n"
     ]
    }
   ],
   "source": [
    "def modify_elements(mutable, immutable):\n",
    "    mutable.append(100)  # Lists are mutable\n",
    "    immutable += \" world\"  # Strings are immutable\n",
    "    return mutable, immutable\n",
    "\n",
    "lst = [1, 2, 3]\n",
    "string = \"Hello\"\n",
    "new_lst, new_string = modify_elements(lst, string)\n",
    "\n",
    "print(\"Modified list:\", new_lst)\n",
    "print(\"Original string remains unchanged:\", string)\n",
    "\n"
   ]
  },
  {
   "cell_type": "markdown",
   "metadata": {
    "id": "09jlt2URnmnH"
   },
   "source": [
    "8. Write a program to demonstrate the use of logical operators"
   ]
  },
  {
   "cell_type": "code",
   "execution_count": 5,
   "metadata": {
    "id": "9rLaqhHcxqzz"
   },
   "outputs": [
    {
     "name": "stdout",
     "output_type": "stream",
     "text": [
      "x > 5 and y < 25: True\n",
      "x < 5 or y < 25: True\n",
      "not(x > 5): False\n"
     ]
    }
   ],
   "source": [
    "x = 10\n",
    "y = 20\n",
    "\n",
    "print(\"x > 5 and y < 25:\", x > 5 and y < 25)  # Logical AND\n",
    "print(\"x < 5 or y < 25:\", x < 5 or y < 25)   # Logical OR\n",
    "print(\"not(x > 5):\", not(x > 5))            # Logical NOT\n",
    "\n"
   ]
  },
  {
   "cell_type": "markdown",
   "metadata": {
    "id": "YRbNgLSbnhM6"
   },
   "source": [
    "9. Write a Python program to convert user input from string to integer, float, and boolean types"
   ]
  },
  {
   "cell_type": "code",
   "execution_count": 7,
   "metadata": {
    "id": "BnbsrA9LxzSR"
   },
   "outputs": [
    {
     "name": "stdout",
     "output_type": "stream",
     "text": [
      "Integer: 21\n",
      "Float: 21.0\n",
      "Boolean: True\n"
     ]
    }
   ],
   "source": [
    "user_input = input(\"Enter a value: \")\n",
    "\n",
    "int_val = int(user_input)\n",
    "float_val = float(user_input)\n",
    "bool_val = bool(user_input)\n",
    "\n",
    "print(\"Integer:\", int_val)\n",
    "print(\"Float:\", float_val)\n",
    "print(\"Boolean:\", bool_val)"
   ]
  },
  {
   "cell_type": "markdown",
   "metadata": {
    "id": "JWamC-0Dn4W3"
   },
   "source": [
    "10. Write code to demonstrate type casting with list elements"
   ]
  },
  {
   "cell_type": "code",
   "execution_count": 9,
   "metadata": {
    "id": "txsxbsiYx5Kr"
   },
   "outputs": [
    {
     "name": "stdout",
     "output_type": "stream",
     "text": [
      "Converted list: [1, 2, 3]\n"
     ]
    }
   ],
   "source": [
    "str_list = [\"1\", \"2\", \"3\"]\n",
    "int_list = [int(i) for i in str_list]  # Convert strings to integers\n",
    "print(\"Converted list:\", int_list)\n",
    "\n"
   ]
  },
  {
   "cell_type": "markdown",
   "metadata": {
    "id": "a1espRk9oAlV"
   },
   "source": [
    "11. Write a program that checks if a number is positive, negative, or zero"
   ]
  },
  {
   "cell_type": "code",
   "execution_count": 2,
   "metadata": {
    "id": "EpqrKYRfx-XS"
   },
   "outputs": [
    {
     "name": "stdout",
     "output_type": "stream",
     "text": [
      "The number is positive.\n"
     ]
    }
   ],
   "source": [
    "num = float(input(\"Enter a number: \"))\n",
    "\n",
    "if num > 0:\n",
    "    print(\"The number is positive.\")\n",
    "elif num < 0:\n",
    "    print(\"The number is negative.\")\n",
    "else:\n",
    "    print(\"The number is zero.\")\n",
    "\n",
    "\n"
   ]
  },
  {
   "cell_type": "markdown",
   "metadata": {
    "id": "blXneFFooG9q"
   },
   "source": [
    " 12. Write a for loop to print numbers from 1 to 10"
   ]
  },
  {
   "cell_type": "code",
   "execution_count": 3,
   "metadata": {
    "id": "NfWivUPDyEOu"
   },
   "outputs": [
    {
     "name": "stdout",
     "output_type": "stream",
     "text": [
      "1\n",
      "2\n",
      "3\n",
      "4\n",
      "5\n",
      "6\n",
      "7\n",
      "8\n",
      "9\n",
      "10\n"
     ]
    }
   ],
   "source": [
    "for i in range(1, 11):\n",
    "    print(i)\n",
    "\n"
   ]
  },
  {
   "cell_type": "markdown",
   "metadata": {
    "id": "TyKU2PtRoMho"
   },
   "source": [
    "13. Write a Python program to find the sum of all even numbers between 1 and 50"
   ]
  },
  {
   "cell_type": "code",
   "execution_count": 4,
   "metadata": {
    "id": "jaWs5yCSyKt_"
   },
   "outputs": [
    {
     "name": "stdout",
     "output_type": "stream",
     "text": [
      "Sum of all even numbers between 1 and 50: 650\n"
     ]
    }
   ],
   "source": [
    "even_sum = sum(i for i in range(1, 51) if i % 2 == 0)\n",
    "print(\"Sum of all even numbers between 1 and 50:\", even_sum)\n",
    "\n"
   ]
  },
  {
   "cell_type": "markdown",
   "metadata": {
    "id": "0t4dYM6aySvj"
   },
   "source": [
    "14. Write a program to reverse a string using a while loop.\n",
    "\n"
   ]
  },
  {
   "cell_type": "code",
   "execution_count": 5,
   "metadata": {
    "id": "6OdT-CgMybkp"
   },
   "outputs": [
    {
     "name": "stdout",
     "output_type": "stream",
     "text": [
      "Reversed string: a\n"
     ]
    }
   ],
   "source": [
    "string = input(\"Enter a string: \")\n",
    "reversed_string = \"\"\n",
    "index = len(string) - 1\n",
    "\n",
    "while index >= 0:\n",
    "    reversed_string += string[index]\n",
    "    index -= 1\n",
    "\n",
    "print(\"Reversed string:\", reversed_string)\n",
    "\n"
   ]
  },
  {
   "cell_type": "markdown",
   "metadata": {
    "id": "riC0B4RWoZos"
   },
   "source": [
    "15. Write a Python program to calculate the factorial of a number provided by the user using a while loop"
   ]
  },
  {
   "cell_type": "code",
   "execution_count": 6,
   "metadata": {
    "id": "HukDiBiOofYr"
   },
   "outputs": [
    {
     "name": "stdout",
     "output_type": "stream",
     "text": [
      "Factorial: 479001600\n"
     ]
    }
   ],
   "source": [
    "num = int(input(\"Enter a number: \"))\n",
    "factorial = 1\n",
    "\n",
    "if num < 0:\n",
    "    print(\"Factorial is not defined for negative numbers.\")\n",
    "else:\n",
    "    while num > 0:\n",
    "        factorial *= num\n",
    "        num -= 1\n",
    "    print(\"Factorial:\", factorial)\n",
    "\n",
    "\n"
   ]
  }
 ],
 "metadata": {
  "colab": {
   "authorship_tag": "ABX9TyMbEKQLLz2fR54nrma8/H3q",
   "provenance": []
  },
  "kernelspec": {
   "display_name": "Python 3",
   "name": "python3"
  },
  "language_info": {
   "codemirror_mode": {
    "name": "ipython",
    "version": 3
   },
   "file_extension": ".py",
   "mimetype": "text/x-python",
   "name": "python",
   "nbconvert_exporter": "python",
   "pygments_lexer": "ipython3",
   "version": "3.13.0"
  }
 },
 "nbformat": 4,
 "nbformat_minor": 0
}
